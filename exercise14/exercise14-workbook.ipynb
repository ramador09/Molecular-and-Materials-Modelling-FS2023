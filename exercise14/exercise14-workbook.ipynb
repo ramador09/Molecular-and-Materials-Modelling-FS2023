{
 "cells": [
  {
   "attachments": {},
   "cell_type": "markdown",
   "metadata": {},
   "source": [
    "# Exercise 14: Simple metadynamics: the dissociation of nitric acid on graphene\n",
    "\n",
    "Molecular and Materials Modelling: ETH Zürich, FS 2023\n",
    "\n",
    "Date: Wednesday, 31. May 2023\n",
    "\n",
    "Due date: none\n",
    "\n",
    "Raymond Amador, Daniele Passerone, Carlo Pignedoli\n",
    "\n",
    "## 0. Introduction\n",
    "\n",
    "In this exercise we will study the dissociation reaction of nitric acid on graphene described using coordination numbers. This simulation will illustrate a simple metadynamics run using the coordination numbers as variables. In order to examine these two phenomena, we will complete the following tasks:\n",
    "\n",
    "* Set up preliminary simulations to learn about the dynamics of nitric acid on graphene at the **density-functional tight binding** (DFTB) level of theory\n",
    "* Restrict the configuration space to \"interesting\" situations by limiting the movement of the two $\\text{HNO}_3$ molecules via introduction of an external potential\n",
    "* Establish a set of collective variables (CVs) to learn about the typical behaviour of any particular CV along an unbiased MD run\n",
    "* Employ a metadynamics simulation to trigger the dissociation of nitric acid by following changes of three different coordination numbers\n",
    "\n",
    "<div>\n",
    "<img src=\"HNO3_graphene.png\" width=\"900\"/>\n",
    "</div>\n",
    "\n",
    "### 0.1. Density-functional tight binding\n",
    "\n",
    "The level of theory for the present exercise is that of **density-functional tight binding**, whereby the electronic density $\\rho (r)=\\rho_0 + \\delta \\rho (r)$ is expanded about a reference density $\\rho_0(r)$:\n",
    "\n",
    "\\begin{align*}\n",
    "    E[\\rho(r)] = & \\int \\delta \\rho(\\textbf{r}) \\frac{E[\\rho(r)]}{\\delta \\rho(\\textbf{r})} \\Bigg\\rvert_{\\rho_0} & \\\\\n",
    "    & +  \\frac{1}{2} \\int \\delta \\rho(\\textbf{r}) \\delta \\rho(\\textbf{r'}) \\frac{\\delta^2E[\\rho(\\textbf{r})]}{\\delta \\rho(\\textbf{r}) \\delta \\rho(\\textbf{r'})}\\Bigg\\rvert_{\\rho_0} + \\dots & \\\\ \n",
    "    & + \\frac{1}{p!} \\int \\dots \\int \\delta \\rho(\\textbf{r}) \\delta \\rho(\\textbf{r'}) \\dots \\delta \\rho(\\textbf{r}^{(p)}) \\frac{\\delta^p E[\\rho(r)]}{\\delta \\rho(\\textbf{r}) \\delta \\rho(\\textbf{r'}) \\dots \\delta \\rho(\\textbf{r}^{(p)})}\\Bigg\\rvert_{\\rho_0} &\n",
    "\\end{align*}\n",
    "\n",
    "We refer to the relevant literature for a more thorough discussion on the theory. Nonetheless: DFTB presents a few computational advantages, in particular with regard to scaling, in comparison to standard DFT by (in some respects) combining the computational accuracy of DFT with the efficiency of TB, especially in systems where the electrons can be considered tightly bound.\n",
    "\n",
    "# 1. The dynamics of two $\\text{HNO}_3$ molecules over a graphene sheet\n",
    "\n",
    "The goal of this first task is to simulate the dissociation of $\\text{HNO}_3$ molecules with formation of products like $\\text{H}_2\\text{O}$ and/or $\\text{NO}$ or $\\text{NO}_2$ fragments. These reactions can occur in the gas phase; however, the reaction should be catalyzed in the presence of C atoms (engl. *soot*; dt. *Glanz- bzw. Hartruss*). In the proposed example, the molecules are located in the vicinity of graphene, which should mimic the role of soot. Graphene is indeed not very reactive, and so better models can be considered using defective or functionalized graphene. \n",
    "\n",
    "We begin by logging into our accounts on JupyterHub on Euler in a similar manner as described in the previous exercises, and `pull` the newest exercise files from the GitHub repository, making sure that you are in the directory for the course:\n",
    "```bash\n",
    "    $ cd ~/Molecular-and-Materials-Modelling-FS2023\n",
    "    $ git init\n",
    "  # $ git stash\n",
    "    $ git pull https://github.com/ramador09/Molecular-and-Materials-Modelling-FS2023.git\n",
    "```\n",
    "\n",
    "The investigation begins with a simple *molecular dynamics* (MD) simulation at a constant temperature of 300 K to learn about the dynamics of the two molecules on graphene. The DFTB description is employed to speed up the simulation, even if this might not be the optimal choice to faithfully describe the dissociation reaction.\n",
    "\n",
    "In the `gr2hno3_nvt.inp` input file, the section pertaining to DFTB is`\n",
    "\n",
    "```\n",
    "  .....\n",
    "  &DFT\n",
    "    &QS\n",
    "      METHOD DFTB\n",
    "      &DFTB\n",
    "        SELF_CONSISTENT    T            \n",
    "        DO_EWALD           T        ! use Ewald-type method instead of direct \n",
    "                                    sum for the Coulomb interaction\n",
    "        DISPERSION         T        ! use dispersion\n",
    "        &PARAMETER\n",
    "          PARAM_FILE_PATH  ${LIBPATH}/scc\n",
    "          PARAM_FILE_NAME  scc_parameter\n",
    "          UFF_FORCE_FIELD  uff_table\n",
    "        &END PARAMETER\n",
    "      &END DFTB\n",
    "    &END QS\n",
    "    &POISSON\n",
    "      PERIODIC XYZ\n",
    "      &EWALD\n",
    "       EWALD_TYPE SPME\n",
    "       GMAX 25\n",
    "       O_SPLINE 5\n",
    "      &END EWALD\n",
    "    &END POISSON\n",
    "    ....\n",
    "```\n",
    "\n",
    "The keyword `PARAM_FILE_PATH` specifies the location of the library, in which the arguments for the next two keywords, `PARAM_FILE_NAME` and `UFF_FORCE_FIELD`, are to be found. Modify the argument of the `PARAM_FILE_PATH` parameter so that it correctly accesses the \\texttt{scc} subdirectory, which is in turn, contained within the \\texttt{DFTB} directory.\n",
    "\n",
    "We need to copy the `DFTB` directory from the CP2K data directory, `CP2K_DATA_DIR`, to our current directory.\n",
    "\n",
    "The system is fully periodic, and enough space is left above the graphene layer in order to avoid interactions with the images along $z$. This represents a very simple model of the type of particles which might trigger the dissociation reaction, and we are not interested in the dynamics of the layer itself. Therefore, a few atoms of the layer are constrained to fixed positions by \n",
    "\n",
    "```\n",
    "  &CONSTRAINT\n",
    "    &FIXED_ATOMS\n",
    "      LIST    48 51 54 57 60 45 59 44 58 43\n",
    "    &END\n",
    "  &END\n",
    "```\n",
    "\n",
    "Change the `RESTART` files as necessary. Otherwise, the `MOTION` section is quite standard for NVT simulations. Since the total number of degrees of freedom is small, even with the thermostat the equilibration to the desired temperature might prove to be difficult. In this light, the rescaling of the temperature is activated by the `TEMP_TOL` keyword, whenever the difference between the instantaneous temperature and the desired value exceeds the given tolerance."
   ]
  },
  {
   "cell_type": "code",
   "execution_count": 1,
   "metadata": {},
   "outputs": [
    {
     "data": {
      "application/vnd.jupyter.widget-view+json": {
       "model_id": "80b062dc191242d7aa29b0d5af5d9573",
       "version_major": 2,
       "version_minor": 0
      },
      "text/plain": []
     },
     "metadata": {},
     "output_type": "display_data"
    }
   ],
   "source": [
    "import numpy as np\n",
    "import sys\n",
    "import scipy\n",
    "from scipy.special import sph_harm\n",
    "from glob import glob\n",
    "from ase.io import read,write\n",
    "from ase import neighborlist,Atoms,Atom\n",
    "from ase.build import molecule\n",
    "import matplotlib.pyplot as plt\n",
    "from ase.visualize import view\n",
    "import nglview as nv"
   ]
  },
  {
   "cell_type": "code",
   "execution_count": 2,
   "metadata": {},
   "outputs": [],
   "source": [
    "def view_structure(system):\n",
    "    t = nv.ASEStructure(system) \n",
    "    w = nv.NGLWidget(t, gui=True)\n",
    "    w.add_spacefill()\n",
    "    return w"
   ]
  },
  {
   "cell_type": "code",
   "execution_count": 3,
   "metadata": {},
   "outputs": [],
   "source": [
    "def view_trajectory(system):\n",
    "    t2 = nv.ASETrajectory(system)\n",
    "    w2 = nv.NGLWidget(t2, gui=True)\n",
    "    #w2.add_spacefill()\n",
    "    return w2"
   ]
  },
  {
   "attachments": {},
   "cell_type": "markdown",
   "metadata": {},
   "source": [
    "## Viewing structures template"
   ]
  },
  {
   "cell_type": "code",
   "execution_count": 20,
   "metadata": {},
   "outputs": [],
   "source": [
    "dynamics1=read('file.xyz')"
   ]
  },
  {
   "cell_type": "code",
   "execution_count": null,
   "metadata": {},
   "outputs": [],
   "source": [
    "view_structure(variable)"
   ]
  },
  {
   "attachments": {},
   "cell_type": "markdown",
   "metadata": {},
   "source": [
    "## Viewing trajectories template"
   ]
  },
  {
   "cell_type": "code",
   "execution_count": 4,
   "metadata": {},
   "outputs": [],
   "source": [
    "dynamics1=read('gr2hno3_nvt-pos-1.xyz', index=\":\") #the index parameter is important..."
   ]
  },
  {
   "cell_type": "code",
   "execution_count": 5,
   "metadata": {},
   "outputs": [
    {
     "data": {
      "application/vnd.jupyter.widget-view+json": {
       "model_id": "d3cd820858224885bbe8b63eea26d813",
       "version_major": 2,
       "version_minor": 0
      },
      "text/plain": [
       "NGLWidget(max_frame=200)"
      ]
     },
     "metadata": {},
     "output_type": "display_data"
    },
    {
     "data": {
      "application/vnd.jupyter.widget-view+json": {
       "model_id": "04bce10f4321471daa0057af0f72eb65",
       "version_major": 2,
       "version_minor": 0
      },
      "text/plain": [
       "Tab(children=(Box(children=(Box(children=(Box(children=(Label(value='step'), IntSlider(value=1, min=-100)), la…"
      ]
     },
     "metadata": {},
     "output_type": "display_data"
    }
   ],
   "source": [
    "view_trajectory(dynamics1)"
   ]
  },
  {
   "cell_type": "code",
   "execution_count": 11,
   "metadata": {},
   "outputs": [],
   "source": [
    "dynamics2=read('gr2hno3_nvt_epot-pos-1.xyz', index=\":\")"
   ]
  },
  {
   "cell_type": "code",
   "execution_count": 12,
   "metadata": {},
   "outputs": [
    {
     "data": {
      "application/vnd.jupyter.widget-view+json": {
       "model_id": "b556dfe81d28402a9da15822a4cadc45",
       "version_major": 2,
       "version_minor": 0
      },
      "text/plain": [
       "NGLWidget(max_frame=200)"
      ]
     },
     "metadata": {},
     "output_type": "display_data"
    },
    {
     "data": {
      "application/vnd.jupyter.widget-view+json": {
       "model_id": "c442bfa348de41e3aacf7784b4bcf636",
       "version_major": 2,
       "version_minor": 0
      },
      "text/plain": [
       "Tab(children=(Box(children=(Box(children=(Box(children=(Label(value='step'), IntSlider(value=1, min=-100)), la…"
      ]
     },
     "metadata": {},
     "output_type": "display_data"
    }
   ],
   "source": [
    "view_trajectory(dynamics2)"
   ]
  },
  {
   "cell_type": "code",
   "execution_count": 10,
   "metadata": {},
   "outputs": [],
   "source": [
    "dynamics3 = read('gr2hno3_mtd_4cv_h0_p1-pos-1.xyz', index=\":\")"
   ]
  },
  {
   "cell_type": "code",
   "execution_count": 11,
   "metadata": {},
   "outputs": [
    {
     "data": {
      "application/vnd.jupyter.widget-view+json": {
       "model_id": "d1133500a55e423f8ea2119cd2e1c95f",
       "version_major": 2,
       "version_minor": 0
      },
      "text/plain": [
       "NGLWidget(max_frame=20000)"
      ]
     },
     "metadata": {},
     "output_type": "display_data"
    },
    {
     "data": {
      "application/vnd.jupyter.widget-view+json": {
       "model_id": "efe79a1fc3864049a39f122097c5e601",
       "version_major": 2,
       "version_minor": 0
      },
      "text/plain": [
       "Tab(children=(Box(children=(Box(children=(Box(children=(Label(value='step'), IntSlider(value=1, min=-100)), la…"
      ]
     },
     "metadata": {},
     "output_type": "display_data"
    }
   ],
   "source": [
    "view_trajectory(dynamics3)"
   ]
  },
  {
   "cell_type": "code",
   "execution_count": 4,
   "metadata": {},
   "outputs": [],
   "source": [
    "dynamics4 = read('./MTD-new/gr2hno3_mtd_3cv_p1-pos-1.xyz', index=\":\")"
   ]
  },
  {
   "cell_type": "code",
   "execution_count": 5,
   "metadata": {},
   "outputs": [
    {
     "data": {
      "application/vnd.jupyter.widget-view+json": {
       "model_id": "bcaac44b26ab42f18e0184d9ec52bd46",
       "version_major": 2,
       "version_minor": 0
      },
      "text/plain": [
       "NGLWidget(max_frame=200)"
      ]
     },
     "metadata": {},
     "output_type": "display_data"
    },
    {
     "data": {
      "application/vnd.jupyter.widget-view+json": {
       "model_id": "813656227062460497bc3a5a593fd408",
       "version_major": 2,
       "version_minor": 0
      },
      "text/plain": [
       "Tab(children=(Box(children=(Box(children=(Box(children=(Label(value='step'), IntSlider(value=1, min=-100)), la…"
      ]
     },
     "metadata": {},
     "output_type": "display_data"
    }
   ],
   "source": [
    "view_trajectory(dynamics4)"
   ]
  },
  {
   "attachments": {},
   "cell_type": "markdown",
   "metadata": {},
   "source": [
    "#### Assignment 1: Densitfy-funcitonal tight binding (DFTB)\n",
    "\n",
    "Submit the calculation as usual:\n",
    "\n",
    "(or use the run script from the previous exercise). The output of this short 5ps simulaiton is stored in `DFTB_NVT`. The kinetic energy (3rd column), temperature (4th), potential energy (5th), and total energy (6th) can be viewed in the `gr2hno3\\_nvt-1.ener` file. Visualize the trajectory in a Python notebook. By visualizing the short trajectory, it is observed that the two molecules move very fast, and explore a large portion of configuration space, being often far from each other and far from graphene.\n",
    "\n",
    "**Estimated runtime on one node: 75min** (probably best to use the run script from last week.)"
   ]
  },
  {
   "cell_type": "code",
   "execution_count": null,
   "metadata": {},
   "outputs": [],
   "source": [
    "## Your code here"
   ]
  },
  {
   "attachments": {},
   "cell_type": "markdown",
   "metadata": {},
   "source": [
    "#### End Assignment 1\n",
    "\n",
    "In order to restrict the exploration to regions where the dissociation catalyzed by graphene might occur (and thereby avoiding configurations that are not interesting for this specific study), it is necessary to limit the movement of the two molecules. To this end, an external potential defining a spherical potential centered on the center of the system coordinates is added, which acts only on the two molecules and creates a wall around the \"interesting\" part of the energy. In order to simplify the definition of the external potential, the coordinates are first centered at zero; these new coordinates can be found in the `grly5x3_2hno3_cc.xyz` file. The ~~new~~ updated input file invoking the interaction with this spherical potential is `gr2hno3_nvt_epot.inp`, in which the only difference to the first input file is to be found in the `&FORCE_EVAL` section:\n",
    "\n",
    "```\n",
    "  &EXTERNAL_POTENTIAL\n",
    "     ATOMS_LIST   61..70\n",
    "     FUNCTION   0.000000000001*(Z^2)^4\n",
    "  &END\n",
    "\n",
    "  &EXTERNAL_POTENTIAL\n",
    "     ATOMS_LIST   61..70\n",
    "     FUNCTION   0.0000000000001*(X^2)^4\n",
    "  &END\n",
    "\n",
    "  &EXTERNAL_POTENTIAL\n",
    "     ATOMS_LIST   61..70\n",
    "     FUNCTION   0.0000000000001*(Y^2)^4\n",
    "  &END\n",
    "```\n",
    "\n",
    "#### Assignment 2: Using the external potential\n",
    "\n",
    "Change the `RESTART` files as necessary and run the simulation. Now, along this resulting 10ps trajectory, the two molecules remain close to graphene, where they should be. Visualize the trajectory and comment on the results.\n",
    "\n",
    "**Estimated runtime on one node: 75min**"
   ]
  },
  {
   "cell_type": "code",
   "execution_count": null,
   "metadata": {},
   "outputs": [],
   "source": [
    "## Your code here"
   ]
  },
  {
   "attachments": {},
   "cell_type": "markdown",
   "metadata": {},
   "source": [
    "#### End Assignment 2\n",
    "\n",
    "## 3. Choosing the collective variables (CVs)\n",
    "\n",
    "The next step is to set up the CVs which will be later used for the **metadynamics** (MTD) simulations. As we had seen last week, it is important to select good CVs that can describe the relevant configuration along the reaction pathway. Moreover, it is useful to learn about the typical behaviour of the selected CV along an unbiased MD run. Hence, after selecting a set of CVs, preliminary runs should be performed in order to monitor the dynamics of these variables. This can be done setting up MTD simulations, where in fact, no bias is added. The evolution of the variables is then monitored while the system explores the configurations around the initial one, i.e., belonging to the same (initial) basin of attraction on the **free energy surface** (FES), which we also met last week. \n",
    "\n",
    "The evaluation of typical fluctuation amplitudes of the CVs is particularly important in order to set the width of the Gaussian beads which are going to build up the penalty potential along the \"real\" MTD run. Moreover, it is important to learn which variations in the CV can occur spontaneously, i.e., those that do not require any bias, and where the CV cannot move without activation.\n",
    "\n",
    "### 3.1. The C-O coordination number\n",
    "\n",
    "The input file `gr2hno3_mtd_4cv_h0_p1.inp` has been prepared, establishing and defining our four CVs. Open this input file. The first CV is the **coordination number** (CN) of O to graphene:\n",
    "\n",
    "```\n",
    "&COLVAR\n",
    "    &COORDINATION\n",
    "        KINDS_FROM  O\n",
    "        KINDS_TO   C\n",
    "        R_0 [angstrom]  1.8\n",
    "        NN  8\n",
    "        ND  14\n",
    "    &END COORDINATION\n",
    "&END COLVAR\n",
    "```\n",
    "\n",
    "where both `NN` and `ND` determine the curvature of the function used to compute the CN, and `R_0` is the reference C-O distance. Then this CV, denoted $CN_{CO}$ and given by\n",
    "\n",
    "\\begin{equation*}\n",
    "    CN_{CO} = \\frac{1}{N_O} \\sum_{i_O} \\sum_{j_C} \\frac{1-(\\frac{r_{ij}}{R_0})^{NN}}{1-(\\frac{r_{ij}}{R_0})^{ND}}\n",
    "\\end{equation*}\n",
    "\n",
    "describes the interaction between those O atoms which might dissociate from N, and graphene, where adsorption might occur. Moreover, $CN_{CO}$ should be approximately zero when the molecules are far from the layer; it becomes larger than zero, but always smaller than unity, when one or more O gets closer to the layer. With our given parameters, the CN starts being larger than zero for C-O distances below 4 \\AA. \n",
    "\n",
    "### 3.2 The N-O coordination number\n",
    "\n",
    "The second CV is the CN of N to O, which is approximately 3 for non-dissociated molecules, and smaller when the dissociation begins.\n",
    "\n",
    "```\n",
    "    &COLVAR\n",
    "       &COORDINATION\n",
    "          KINDS_FROM  N\n",
    "          KINDS_TO   O\n",
    "          R_0 [angstrom]  1.8\n",
    "          NN  8 \n",
    "          ND  14\n",
    "       &END COORDINATION\n",
    "    &END COLVAR\n",
    "```\n",
    "\n",
    "### 3.3. The H-C coordination number\n",
    "\n",
    "The third CV is the coordination number between H and graphene, since also H can be lost from the molecules and subsequently adsorbed onto graphene:\n",
    "\n",
    "```\n",
    "    &COLVAR\n",
    "       &COORDINATION\n",
    "          KINDS_FROM  H\n",
    "          KINDS_TO   C\n",
    "          R_0 [angstrom]  1.6\n",
    "          NN  8\n",
    "          ND  14\n",
    "       &END COORDINATION\n",
    "    &END COLVAR\n",
    "```\n",
    "\n",
    "### 3.4. The distance between point and plane\n",
    "\n",
    "The fourth and final CV is the distance between a point and a plane, whereby the point is the geometric center between the two N atoms of the system, and the plane is determined (uniquely! This seemingly trivial and almost taken-for-granted factum has its origins (of course) in Euclid's *Elements*. In particular, his proof of Prop. 5 in Book IV can be generalized to the theorem *any three noncollinear points determine a plane*.) by the coordinates of three C species of graphene: \n",
    "\n",
    "```\n",
    "&COLVAR\n",
    "    &DISTANCE_POINT_PLANE\n",
    "    &POINT\n",
    "        TYPE GEO_CENTER\n",
    "        ATOMS 1\n",
    "    &END\n",
    "    &POINT\n",
    "        TYPE GEO_CENTER\n",
    "        ATOMS 48\n",
    "    &END\n",
    "    &POINT\n",
    "        TYPE GEO_CENTER\n",
    "        ATOMS 60\n",
    "    &END\n",
    "    &POINT\n",
    "        TYPE GEO_CENTER\n",
    "        ATOMS  69 70\n",
    "    &END\n",
    "        ATOMS_PLANE 1 2 3 \n",
    "        ATOM_POINT 4\n",
    "    &END DISTANCE_POINT_PLANE\n",
    "&END COLVAR\n",
    "```\n",
    "This last CV restrains the distance of the molecules from the layer, which is an important factor to determine whether dissociation is somehow favoured by the presence of graphene. The output of the unbiased MD run that monitors the behaviour of these 4 CV is contained in DFTB_MTD_4CV_H0`, and is obtained by invoking an MTD run where no penalty potential is added.\n",
    "\n",
    "Hence, the `&FREE_ENERGY` subsection is added within the section `&MOTION`; the MTD run is controlled from the `&METADYN` subsection. In the present case, where no bias has to be added, the `&METADYN` section contains comparatively few parameters:\n",
    "\n",
    "```\n",
    "  &FREE_ENERGY\n",
    "    &METADYN\n",
    "      DO_HILLS  .FALSE.\n",
    "\n",
    "      &METAVAR\n",
    "        SCALE 0.08\n",
    "        COLVAR 1\n",
    "      &END METAVAR\n",
    "\n",
    "      &METAVAR\n",
    "        SCALE 0.3\n",
    "        COLVAR 2\n",
    "      &END METAVAR\n",
    "\n",
    "     &METAVAR\n",
    "        SCALE 0.08\n",
    "        COLVAR 3\n",
    "      &END METAVAR\n",
    "\n",
    "      &METAVAR\n",
    "        SCALE 1.5\n",
    "        COLVAR 4\n",
    "      &END METAVAR\n",
    "\n",
    "      &PRINT\n",
    "        &COLVAR\n",
    "           COMMON_ITERATION_LEVELS 3\n",
    "           &EACH\n",
    "             MD 1\n",
    "           &END\n",
    "        &END\n",
    "      &END\n",
    "    &END METADYN\n",
    "  &END FREE_ENERGY\n",
    "```\n",
    "\n",
    "Change the `RESTART` files as necessary. With the `.FALSE.` argument fed to the `DO_HILLS` parameter, it is required that no bias is added. Then, for each defined `COLVAR`, a MTD variable is initialized. The `PRINT%COLVAR` section controls the printing of the `COLVAR` output file, containing the instantaneous values of the CV as well as other parameters when needed. For the run without bias, no other information is needed, and the only interesting data in the `gr2hno3_mtd_4cv_h0_p1-COLVAR.metadynLog` are the second, third, fourth, and fifth columns, which are instantaneous values of the CV at the respective time (in fs, first column)."
   ]
  },
  {
   "attachments": {},
   "cell_type": "markdown",
   "metadata": {},
   "source": [
    "#### Assignment 3: Time dependence of various CVs: skeleton\n",
    "\n",
    "By plotting the CVs against time, the amplitude of the equilibrium fluctuations can be evaluated and then used to set up the size of the Gaussian hills that build up the biasing potential. In this exercise, we will generate a total of three plots.\n",
    "\n",
    "The first CV (C-O coordination number) fluctuates close to zero, with fluctuations smaller than 0.2; the second CV (N-O coordination number) is around 2.8, with fluctuations smaller due to the stiffness of the three NO bonds. Generate this plot.\n",
    "\n",
    "The third CV (H-C coordination number) is also typically zero, yet can change quite significantly when the  molecules approach the layer, even if there is no dissociation of H, and no binding to C. This indicates that this variable is difficult to control and might turn out to be tricky to use to distinguish amongst different states of the reaction process. Generate this plot as well.\n",
    "\n",
    "Finally, generate the plot of the fourth CV (point-plane distance). This plot shows quite large fluctuations and is clearly not suited to distinguish a specific state along the reaction path. Moreover, its minima, when the two molecules are closer to the layer, correspond to the maxima of the third CV, i.e., to the CN of H-C. At least prior to dissociation, the information that this variable provides is redundant.\n",
    "\n",
    "Nonetheless, it might be interesting to run again this preliminary simulation after modifying the definition of the CV. For example, by changing the two exponents or even the reference distance of the CN, the range of the function can be made shorter or longer. It is maybe important to remind ourselves that the function defining the CV must have a gradient different from zero to affect the behaviour of the system in a MTD run. In more exact words: the MTD force term affecting the dynamics of the atoms involved in the definition of the CV is proportional to the CV function."
   ]
  },
  {
   "cell_type": "code",
   "execution_count": 7,
   "metadata": {},
   "outputs": [],
   "source": [
    "with open(\"gr2hno3_mtd_4cv_h0_p1-COLVAR.metadynLog\") as f:\n",
    "    lines = f.readlines()"
   ]
  },
  {
   "cell_type": "code",
   "execution_count": 8,
   "metadata": {},
   "outputs": [],
   "source": [
    "time=[float(i.split()[0]) for i in lines]"
   ]
  },
  {
   "cell_type": "code",
   "execution_count": 9,
   "metadata": {},
   "outputs": [],
   "source": [
    "CO_CN=[float(i.split()[1]) for i in lines]"
   ]
  },
  {
   "cell_type": "code",
   "execution_count": 10,
   "metadata": {},
   "outputs": [
    {
     "data": {
      "text/plain": [
       "Text(0.5, 0, 'time (fs)')"
      ]
     },
     "execution_count": 10,
     "metadata": {},
     "output_type": "execute_result"
    },
    {
     "data": {
      "image/png": "[encoded data removed]",
      "text/plain": [
       "<Figure size 432x288 with 1 Axes>"
      ]
     },
     "metadata": {
      "needs_background": "light"
     },
     "output_type": "display_data"
    }
   ],
   "source": [
    "fig = plt.plot(time,CO_CN,color='crimson')\n",
    "#get the axis just defined\n",
    "ax  = plt.gca()\n",
    "ax.set_ylabel(\"C-O coordination number\")\n",
    "ax.set_xlabel(\"time (fs)\")"
   ]
  },
  {
   "cell_type": "code",
   "execution_count": null,
   "metadata": {},
   "outputs": [],
   "source": [
    "## Your code here"
   ]
  },
  {
   "attachments": {},
   "cell_type": "markdown",
   "metadata": {},
   "source": [
    "#### End Assignment 3"
   ]
  },
  {
   "attachments": {},
   "cell_type": "markdown",
   "metadata": {},
   "source": [
    "## 4. The metadynamics of the dissociation\n",
    "\n",
    "Now, for the metadynamics of the dissociation of $\\text{HNO}_3$ on a graphene sheet, we remove the point-plane distance as a CV, and thereby employ only the three CNs as CVs as described above. The input file is `gr2hno3_mtd_3cv_p1.inp`, whose input file has already been modified to activate the MTD algorithm:\n",
    "\n",
    "```\n",
    "&METADYN\n",
    "    DO_HILLS \n",
    "    NT_HILLS 100\n",
    "    WW 3.0e-3\n",
    "    &METAVAR\n",
    "    SCALE 0.2\n",
    "    COLVAR 1\n",
    "    &END METAVAR\n",
    "    &METAVAR\n",
    "    SCALE 0.3\n",
    "    COLVAR 2\n",
    "    &END METAVAR\n",
    "    &METAVAR\n",
    "    SCALE 0.2\n",
    "    COLVAR 3\n",
    "    &END METAVAR\n",
    "    &PRINT\n",
    "    &COLVAR\n",
    "        COMMON_ITERATION_LEVELS 3\n",
    "        &EACH\n",
    "            MD 1\n",
    "        &END\n",
    "    &END\n",
    "    &HILLS\n",
    "        COMMON_ITERATION_LEVELS 3\n",
    "        &EACH\n",
    "            MD 1\n",
    "        &END\n",
    "    &END\n",
    "    &END\n",
    "&END METADYN\n",
    "```\n",
    "\n",
    "One Gaussian hill is dropped for every number of steps specified in the `NT_HILLS` parameter; the height of the hill (in Ha) is given by `WW`. These parameters, together with the width of the Gaussian hills, are important to determine the accuracy of the description of the FES via the MTD biasing potential. Since each variable has, in principle, different dimensions and different dynamics, the shape of the hills filling up the $N_{CV}$-dimensional configuration space, as defined by the selected CVs themselves, is *not* isotropic: rather, the parameter `SCALE` associated to the $i$th MTD variable determines the amplitude of the Gaussian in the $i$th space direction of the $N_{CV}$-dimensional configuration space.\n",
    "\n",
    "This parameter, as well as the hill's height and the frequency of collocation, can be changed along the same MTD run by restarting with different values in the input. This feature is useful when the dynamics of some variable changes after some event has occurred (e.g., the fluctuation of a distances becomes larger after a bond breaks), or to modulate the resolution of the biasing potential (coarser or finer) in different regions of the phase space (e.g., coarser at the bottom of the FES basin, and finer in the vicinity of the transition state).\n",
    "\n",
    "For an efficient exploration of configuration space, it is crucial to spawn hills that are neither too big, lest important features of the topography of the FES might not be sufficiently well resolved, or even the MTD trajectory could follow the wrong path, thereby missing the **minimum energy path** (MEP). On the other hand, filling up the whole space with hills which are too small might require excessively long  simulation time. Given the hill size (height and width), and knowing (approximately) the size of the space spanned by the CVs and the barrier height, it is possible to estimate the number of hills needed to fill the basin of the FES and move to the next minimum.\n",
    "\n",
    "The `HILLS` keyword controls the printing of the `HILLS` file, where the information on the spawned hills is stored: timestep, coordinates of the center in the space of CVs (three CVs means three columns), followed by the width of the hill in each Cartesian direction of space (three more columns), followed by the height (last column).\n",
    "\n",
    "#### Assignment 4: Analysis of the MTD output files and generation of the FES\n",
    "\n",
    "Submit the calculation and then view the trajectory of the output. The provided trajectory is about 100 ps, and indeed shows the dissociation of the two molecules into $\\text{NO}_2$ and OH, whereby the OH fragments tend to interact with the graphene layer. From the behaviour of the first and second CNs, the evolution of the system can be somehow deduced. In particular, there are clear changes in the N-O CN, which becomes larger when the two molecules get closer to each other, and becomes smaller when the OH is dissociated.\n",
    "\n",
    "Soon after the dissociation, the coordination is again close to 3, because the lost O is compensated by the fact that the two $\\text{NO}_2$ fragments stay close together, i.e., each N sees the O of the other fragments. The C-O CN becomes larger when the molecules are closer to the layer, and fluctuates quite a lot due to the rapid movement of the molecules. After the dissociation, higher values of the CN are kept for longer time, indicating some more stable interaction of O with C.\n",
    "\n",
    "A better choice of the parameters defining the C-O CN might help resolve more clearly the two states: O interacting and O not interacting with the layer. As predicted, the`very large fluctuations of the H-C CN are difficult to interpret and make this variable not particularly useful for the description of the process. In this light, a CN of N-H, describing the dissociation of H from $\\text{HNO}_3$, might have been resp. might be a better choice as a third CV.\n",
    "\n",
    "Other quantities that can be monitored from the `COLVAR` output, besides the instantaneous values of the three CVs (2nd, 3rd, 4th columns, resp.) are: the instantaneous gradient of the bias potential computed with respect to the CV (5th, 6th, 7th col.); the gradients with respect to the CVs of the wall potentials, if present (8th, 9th, 10th col.); the instantaneous value of the bias potential (11th col.), and the instantaneous values of the wall potentials (12th col.).\n",
    "\n",
    "**Estimated runtime on one node: 100min**"
   ]
  },
  {
   "cell_type": "code",
   "execution_count": 11,
   "metadata": {},
   "outputs": [
    {
     "name": "stderr",
     "output_type": "stream",
     "text": [
      "<ipython-input-11-1417fc8278c0>:21: RuntimeWarning: divide by zero encountered in log\n",
      "  fes = -kb * temperature * np.log(prob)\n"
     ]
    }
   ],
   "source": [
    "bohr_2_angstrom = 0.529177\n",
    "kb = 8.6173303e-5 # eV * K^-1\n",
    "\n",
    "temperature = 300.0                          #Change temperature according to your MD simulations!\n",
    "colvar_path = \"./gr2hno3_mtd_3cv_p1-COLVAR.metadynLog\"\n",
    "\n",
    "# Load the colvar file\n",
    "colvar_raw = np.loadtxt(colvar_path)\n",
    "\n",
    "# Extract the two CVs\n",
    "d1 = colvar_raw[:, 2] * bohr_2_angstrom\n",
    "d2 = colvar_raw[:, 3] * bohr_2_angstrom\n",
    "\n",
    "# Create a 2d histogram corresponding to the CV occurances\n",
    "cv_hist = np.histogram2d(d1, d2, bins=500)\n",
    "\n",
    "# probability from the histogram\n",
    "prob = cv_hist[0]/len(d1)\n",
    "\n",
    "# Free energy surface\n",
    "fes = -kb * temperature * np.log(prob)\n",
    "\n",
    "# Save the image\n",
    "extent = (np.min(cv_hist[1]), np.max(cv_hist[1]), np.min(cv_hist[2]), np.max(cv_hist[2]))\n",
    "plt.figure(figsize=(5, 5))\n",
    "plt.imshow(fes.T, extent=extent, aspect='auto', origin='lower', cmap='hsv')\n",
    "cbar = plt.colorbar()\n",
    "cbar.set_label(\"Free energy [eV]\")\n",
    "plt.xlim(1.546,1.556)\n",
    "plt.ylim(0.04, 0.065)\n",
    "plt.xlabel(\"d1 [ang]\")\n",
    "plt.ylabel(\"d2 [ang]\")\n",
    "plt.savefig(\"./fes3.png\", dpi=200)\n",
    "plt.close()"
   ]
  },
  {
   "cell_type": "code",
   "execution_count": null,
   "metadata": {},
   "outputs": [],
   "source": []
  }
 ],
 "metadata": {
  "kernelspec": {
   "display_name": "Python 3",
   "language": "python",
   "name": "python3"
  },
  "language_info": {
   "codemirror_mode": {
    "name": "ipython",
    "version": 3
   },
   "file_extension": ".py",
   "mimetype": "text/x-python",
   "name": "python",
   "nbconvert_exporter": "python",
   "pygments_lexer": "ipython3",
   "version": "3.8.8"
  }
 },
 "nbformat": 4,
 "nbformat_minor": 4
}
